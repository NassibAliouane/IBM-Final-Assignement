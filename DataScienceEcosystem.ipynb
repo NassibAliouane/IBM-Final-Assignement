{
 "cells": [
  {
   "cell_type": "markdown",
   "id": "5c3661df-c10b-4c62-b60b-833b967e9915",
   "metadata": {},
   "source": [
    "# Data Science Tools and Ecosystem"
   ]
  },
  {
   "cell_type": "markdown",
   "id": "c4f79ad9-a1ff-48b5-bf03-c988c14866d0",
   "metadata": {},
   "source": [
    "In this notebook, Data Science Tools and Ecosystem are summarized."
   ]
  },
  {
   "cell_type": "markdown",
   "id": "583e3f67-8bb7-451a-b6ab-4536aa916976",
   "metadata": {},
   "source": [
    "**Objectives:**\n",
    "- Learn to use Jupyter Notebook\n",
    "- Learn to use Github\n",
    "- Lear to use RStudio"
   ]
  },
  {
   "cell_type": "markdown",
   "id": "10f2f694-9f04-4853-bc0f-689e451fd906",
   "metadata": {},
   "source": [
    "Some of the popular languages that Data Scientists use are :\n",
    "\n",
    "1. Python\n",
    "2. R\n",
    "3. C++"
   ]
  },
  {
   "cell_type": "markdown",
   "id": "0063063e-3814-4d9a-b126-7ff1bf69b878",
   "metadata": {},
   "source": [
    "Some of the commonly used libraries used by Data Scientists include:\n",
    "- Pandas\n",
    "- Numpy\n",
    "- Matplotlib.pyplot"
   ]
  },
  {
   "cell_type": "markdown",
   "id": "566c0339-b408-4f04-82fc-917e062de89b",
   "metadata": {},
   "source": [
    "|Data Science Tools|\n",
    "--------------\n",
    "|Jupyter Notebook|\n",
    "|Rstudio|\n",
    "|VS Code|\n"
   ]
  },
  {
   "cell_type": "markdown",
   "id": "ab45e2c8-af80-47f8-8e71-3a610e6b3b81",
   "metadata": {},
   "source": [
    "### Below are a few examples of evaluating arithmetic expressions in Python"
   ]
  },
  {
   "cell_type": "code",
   "execution_count": 3,
   "id": "46e05e5f-37b9-4cf5-a406-7e5daa2167c8",
   "metadata": {},
   "outputs": [
    {
     "data": {
      "text/plain": [
       "17"
      ]
     },
     "execution_count": 3,
     "metadata": {},
     "output_type": "execute_result"
    }
   ],
   "source": [
    "#This is a simple arithmetic expression to multiply then add integers\n",
    "(3*4)+5"
   ]
  },
  {
   "cell_type": "code",
   "execution_count": 5,
   "id": "d9131c24-3d02-451f-af59-4fb8da56ec3f",
   "metadata": {},
   "outputs": [
    {
     "name": "stdout",
     "output_type": "stream",
     "text": [
      "3.3333333333333335\n"
     ]
    }
   ],
   "source": [
    "#This will convert 200 minutes to hours by dividing by 60\n",
    "Hours = 200/60\n",
    "print(Hours)"
   ]
  },
  {
   "cell_type": "markdown",
   "id": "cf6e2400-224b-4b33-b67e-a4715c103f20",
   "metadata": {},
   "source": [
    "## Author\n",
    "Mahmoud Nassib Aliouane"
   ]
  },
  {
   "cell_type": "code",
   "execution_count": null,
   "id": "6c39da1d-c345-497b-85fd-9a389777c5f5",
   "metadata": {},
   "outputs": [],
   "source": []
  },
  {
   "cell_type": "code",
   "execution_count": null,
   "id": "f37d5888-7ef3-4260-814a-e3067a1597d8",
   "metadata": {},
   "outputs": [],
   "source": []
  },
  {
   "cell_type": "code",
   "execution_count": null,
   "id": "5c8fcef4-99e6-49c5-96be-720da87f5d3e",
   "metadata": {},
   "outputs": [],
   "source": []
  },
  {
   "cell_type": "code",
   "execution_count": null,
   "id": "9ecc8e90-cb9a-4f9f-bf60-3d1e64d4064f",
   "metadata": {},
   "outputs": [],
   "source": []
  },
  {
   "cell_type": "code",
   "execution_count": null,
   "id": "3db7b7a7-fac2-4b70-8dc0-1a02a5fd9672",
   "metadata": {},
   "outputs": [],
   "source": []
  },
  {
   "cell_type": "code",
   "execution_count": null,
   "id": "5cf936b9-935b-46aa-b067-322e6cf73df4",
   "metadata": {},
   "outputs": [],
   "source": []
  }
 ],
 "metadata": {
  "kernelspec": {
   "display_name": "Python 3 (ipykernel)",
   "language": "python",
   "name": "python3"
  },
  "language_info": {
   "codemirror_mode": {
    "name": "ipython",
    "version": 3
   },
   "file_extension": ".py",
   "mimetype": "text/x-python",
   "name": "python",
   "nbconvert_exporter": "python",
   "pygments_lexer": "ipython3",
   "version": "3.11.7"
  }
 },
 "nbformat": 4,
 "nbformat_minor": 5
}
